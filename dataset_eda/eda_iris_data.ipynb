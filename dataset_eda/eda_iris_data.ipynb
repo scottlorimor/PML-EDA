{
 "cells": [
  {
   "cell_type": "markdown",
   "metadata": {},
   "source": [
    "## Iris dataset: exploratory data analysis & Classification Algorithm"
   ]
  },
  {
   "cell_type": "markdown",
   "metadata": {},
   "source": [
    "### Objective:\n",
    "<p>I am currently working through the thinkStats ver2 textbook by Allen Downey. I'm not too particularly interested in whether first babies arrive late, nor, and most importantly, do I cement concepts well by following a book's working dataset (too much passive coding). Instead, I've found applying concepts to another dataset of interest is most effective.</p>\n",
    "<p>The dataset I will explore using this book (at least in part) is the simple, yet timeless iris dataset. The objective is to do exploratory data analysis, stepping through those steps and then to implement a classification algorithm to predict flower species.</p>"
   ]
  },
  {
   "cell_type": "markdown",
   "metadata": {},
   "source": [
    "<b>Dataset Information:</b>\n",
    "<p>A widely used dataset in pattern classification. It contains 3 classes of plant species with 50 instances of each. <b>One class is linearly separable</b>, but the others are not.</p>"
   ]
  },
  {
   "cell_type": "markdown",
   "metadata": {},
   "source": [
    "#### Imports"
   ]
  },
  {
   "cell_type": "code",
   "execution_count": 5,
   "metadata": {
    "collapsed": false
   },
   "outputs": [],
   "source": [
    "# necessary imports\n",
    "import pandas as pd\n",
    "import numpy as np\n",
    "import matplotlib.pyplot as plt\n",
    "\n",
    "%matplotlib inline\n",
    "# set to default, more asthetically appealing plots\n",
    "pd.options.display.mpl_style = 'default'"
   ]
  },
  {
   "cell_type": "markdown",
   "metadata": {},
   "source": [
    "#### Dataset"
   ]
  },
  {
   "cell_type": "code",
   "execution_count": 6,
   "metadata": {
    "collapsed": false
   },
   "outputs": [],
   "source": [
    "# read in iris data set \n",
    "iris_data_path = \"../datasets/iris.data.txt\"\n",
    "iris = pd.read_csv(iris_data_path)\n",
    "\n",
    "# change columns to feature names\n",
    "feature_cols = ['sepal_length_cm', 'sepal_width_cm', 'petal_length_cm', 'petal_width_cm', 'species']\n",
    "iris.columns = feature_cols"
   ]
  },
  {
   "cell_type": "code",
   "execution_count": 7,
   "metadata": {
    "collapsed": false
   },
   "outputs": [
    {
     "data": {
      "text/html": [
       "<div>\n",
       "<table border=\"1\" class=\"dataframe\">\n",
       "  <thead>\n",
       "    <tr style=\"text-align: right;\">\n",
       "      <th></th>\n",
       "      <th>sepal_length_cm</th>\n",
       "      <th>sepal_width_cm</th>\n",
       "      <th>petal_length_cm</th>\n",
       "      <th>petal_width_cm</th>\n",
       "      <th>species</th>\n",
       "    </tr>\n",
       "  </thead>\n",
       "  <tbody>\n",
       "    <tr>\n",
       "      <th>0</th>\n",
       "      <td>4.9</td>\n",
       "      <td>3.0</td>\n",
       "      <td>1.4</td>\n",
       "      <td>0.2</td>\n",
       "      <td>Iris-setosa</td>\n",
       "    </tr>\n",
       "    <tr>\n",
       "      <th>1</th>\n",
       "      <td>4.7</td>\n",
       "      <td>3.2</td>\n",
       "      <td>1.3</td>\n",
       "      <td>0.2</td>\n",
       "      <td>Iris-setosa</td>\n",
       "    </tr>\n",
       "    <tr>\n",
       "      <th>2</th>\n",
       "      <td>4.6</td>\n",
       "      <td>3.1</td>\n",
       "      <td>1.5</td>\n",
       "      <td>0.2</td>\n",
       "      <td>Iris-setosa</td>\n",
       "    </tr>\n",
       "    <tr>\n",
       "      <th>3</th>\n",
       "      <td>5.0</td>\n",
       "      <td>3.6</td>\n",
       "      <td>1.4</td>\n",
       "      <td>0.2</td>\n",
       "      <td>Iris-setosa</td>\n",
       "    </tr>\n",
       "    <tr>\n",
       "      <th>4</th>\n",
       "      <td>5.4</td>\n",
       "      <td>3.9</td>\n",
       "      <td>1.7</td>\n",
       "      <td>0.4</td>\n",
       "      <td>Iris-setosa</td>\n",
       "    </tr>\n",
       "  </tbody>\n",
       "</table>\n",
       "</div>"
      ],
      "text/plain": [
       "   sepal_length_cm  sepal_width_cm  petal_length_cm  petal_width_cm  \\\n",
       "0              4.9             3.0              1.4             0.2   \n",
       "1              4.7             3.2              1.3             0.2   \n",
       "2              4.6             3.1              1.5             0.2   \n",
       "3              5.0             3.6              1.4             0.2   \n",
       "4              5.4             3.9              1.7             0.4   \n",
       "\n",
       "       species  \n",
       "0  Iris-setosa  \n",
       "1  Iris-setosa  \n",
       "2  Iris-setosa  \n",
       "3  Iris-setosa  \n",
       "4  Iris-setosa  "
      ]
     },
     "execution_count": 7,
     "metadata": {},
     "output_type": "execute_result"
    }
   ],
   "source": [
    "# snapshot of data\n",
    "iris.head()"
   ]
  },
  {
   "cell_type": "markdown",
   "metadata": {},
   "source": [
    "Notes: sepal length and width is > petal length and width for iris-setosa. Does this hold for other species too?"
   ]
  },
  {
   "cell_type": "code",
   "execution_count": 8,
   "metadata": {
    "collapsed": false
   },
   "outputs": [
    {
     "data": {
      "text/html": [
       "<div>\n",
       "<table border=\"1\" class=\"dataframe\">\n",
       "  <thead>\n",
       "    <tr style=\"text-align: right;\">\n",
       "      <th></th>\n",
       "      <th>sepal_length_cm</th>\n",
       "      <th>sepal_width_cm</th>\n",
       "      <th>petal_length_cm</th>\n",
       "      <th>petal_width_cm</th>\n",
       "    </tr>\n",
       "  </thead>\n",
       "  <tbody>\n",
       "    <tr>\n",
       "      <th>count</th>\n",
       "      <td>149.000000</td>\n",
       "      <td>149.000000</td>\n",
       "      <td>149.000000</td>\n",
       "      <td>149.000000</td>\n",
       "    </tr>\n",
       "    <tr>\n",
       "      <th>mean</th>\n",
       "      <td>5.848322</td>\n",
       "      <td>3.051007</td>\n",
       "      <td>3.774497</td>\n",
       "      <td>1.205369</td>\n",
       "    </tr>\n",
       "    <tr>\n",
       "      <th>std</th>\n",
       "      <td>0.828594</td>\n",
       "      <td>0.433499</td>\n",
       "      <td>1.759651</td>\n",
       "      <td>0.761292</td>\n",
       "    </tr>\n",
       "    <tr>\n",
       "      <th>min</th>\n",
       "      <td>4.300000</td>\n",
       "      <td>2.000000</td>\n",
       "      <td>1.000000</td>\n",
       "      <td>0.100000</td>\n",
       "    </tr>\n",
       "    <tr>\n",
       "      <th>25%</th>\n",
       "      <td>5.100000</td>\n",
       "      <td>2.800000</td>\n",
       "      <td>1.600000</td>\n",
       "      <td>0.300000</td>\n",
       "    </tr>\n",
       "    <tr>\n",
       "      <th>50%</th>\n",
       "      <td>5.800000</td>\n",
       "      <td>3.000000</td>\n",
       "      <td>4.400000</td>\n",
       "      <td>1.300000</td>\n",
       "    </tr>\n",
       "    <tr>\n",
       "      <th>75%</th>\n",
       "      <td>6.400000</td>\n",
       "      <td>3.300000</td>\n",
       "      <td>5.100000</td>\n",
       "      <td>1.800000</td>\n",
       "    </tr>\n",
       "    <tr>\n",
       "      <th>max</th>\n",
       "      <td>7.900000</td>\n",
       "      <td>4.400000</td>\n",
       "      <td>6.900000</td>\n",
       "      <td>2.500000</td>\n",
       "    </tr>\n",
       "  </tbody>\n",
       "</table>\n",
       "</div>"
      ],
      "text/plain": [
       "       sepal_length_cm  sepal_width_cm  petal_length_cm  petal_width_cm\n",
       "count       149.000000      149.000000       149.000000      149.000000\n",
       "mean          5.848322        3.051007         3.774497        1.205369\n",
       "std           0.828594        0.433499         1.759651        0.761292\n",
       "min           4.300000        2.000000         1.000000        0.100000\n",
       "25%           5.100000        2.800000         1.600000        0.300000\n",
       "50%           5.800000        3.000000         4.400000        1.300000\n",
       "75%           6.400000        3.300000         5.100000        1.800000\n",
       "max           7.900000        4.400000         6.900000        2.500000"
      ]
     },
     "execution_count": 8,
     "metadata": {},
     "output_type": "execute_result"
    }
   ],
   "source": [
    "# quick look at the summary number values\n",
    "iris.describe()"
   ]
  },
  {
   "cell_type": "markdown",
   "metadata": {},
   "source": [
    "Notes: it appears on average the sepal length is almost 2 cm > than petal length (same goes for width as well)"
   ]
  },
  {
   "cell_type": "markdown",
   "metadata": {},
   "source": [
    "#### Histograms"
   ]
  },
  {
   "cell_type": "code",
   "execution_count": 45,
   "metadata": {
    "collapsed": false
   },
   "outputs": [
    {
     "data": {
      "text/plain": [
       "<matplotlib.text.Text at 0x11dc3aad0>"
      ]
     },
     "execution_count": 45,
     "metadata": {},
     "output_type": "execute_result"
    },
    {
     "data": {
      "image/png": "[encoded data removed]",
      "text/plain": [
       "<matplotlib.figure.Figure at 0x11d7fbdd0>"
      ]
     },
     "metadata": {},
     "output_type": "display_data"
    }
   ],
   "source": [
    "# let's look at histograms of the distributions\n",
    "fig, axes = plt.subplots(2,2, figsize=(12,8))\n",
    "iris.sepal_length_cm.plot.hist(ax=axes[0,0],color='c',grid=False)\n",
    "axes[0,0].set_title('sepal length cm')\n",
    "iris.sepal_width_cm.plot.hist(ax=axes[0,1], color='m',grid=False)\n",
    "axes[0,1].set_title('sepal width cm')\n",
    "iris.petal_length_cm.plot.hist(ax=axes[1,0],color='b',grid=False)\n",
    "axes[1,0].set_title('petal length cm')\n",
    "iris.petal_width_cm.plot.hist(ax=axes[1,1],color='r',grid=False)\n",
    "axes[1,1].set_title('petal width cm')"
   ]
  },
  {
   "cell_type": "markdown",
   "metadata": {},
   "source": [
    "Notes: first observation seems to show that the sepal length and width are somewhat normally distributed. The left tail is longer on both the sepal length and width. The petal length however is not normally distributed. \n",
    "\n",
    "...on second glance the sepal length also may not be normally distributed either. "
   ]
  },
  {
   "cell_type": "markdown",
   "metadata": {
    "collapsed": true
   },
   "source": [
    "<h4>Histogram Notes:</h4>\n",
    "<p>A histogram is a common representation of a variable distribution. It shows the frequency of values, meaning the number of times the value appears in the dataset.</p>\n"
   ]
  },
  {
   "cell_type": "markdown",
   "metadata": {},
   "source": [
    "#### Outliers"
   ]
  },
  {
   "cell_type": "code",
   "execution_count": 61,
   "metadata": {
    "collapsed": false
   },
   "outputs": [
    {
     "name": "stdout",
     "output_type": "stream",
     "text": [
      "sepal length min and frequencies: \n",
      "4.3    1\n",
      "4.4    3\n",
      "4.5    1\n",
      "4.6    4\n",
      "4.7    2\n",
      "Name: sepal_length_cm, dtype: int64\n",
      "sepal length max and frequencies: \n",
      "7.9    1\n",
      "7.7    4\n",
      "7.6    1\n",
      "7.4    1\n",
      "7.3    1\n",
      "Name: sepal_length_cm, dtype: int64\n",
      "sepal weidth min and frequencies: \n",
      "2.0    1\n",
      "2.2    3\n",
      "2.3    4\n",
      "2.4    3\n",
      "2.5    8\n",
      "Name: sepal_width_cm, dtype: int64\n",
      "sepal width max and frequencies: \n",
      "4.4    1\n",
      "4.2    1\n",
      "4.1    1\n",
      "4.0    1\n",
      "3.9    2\n",
      "Name: sepal_width_cm, dtype: int64\n",
      "petal length min and frequencies: \n",
      "1.0     1\n",
      "1.1     1\n",
      "1.2     2\n",
      "1.3     7\n",
      "1.4    11\n",
      "Name: petal_length_cm, dtype: int64\n",
      "petal length max and frequencies: \n",
      "6.9    1\n",
      "6.7    2\n",
      "6.6    1\n",
      "6.4    1\n",
      "6.3    1\n",
      "Name: petal_length_cm, dtype: int64\n",
      "petal width min and frequencies: \n",
      "0.1     6\n",
      "0.2    27\n",
      "0.3     7\n",
      "0.4     7\n",
      "0.5     1\n",
      "Name: petal_width_cm, dtype: int64\n",
      "petal width max and frequencies: \n",
      "2.5    3\n",
      "2.4    3\n",
      "2.3    8\n",
      "2.2    3\n",
      "2.1    6\n",
      "Name: petal_width_cm, dtype: int64\n"
     ]
    }
   ],
   "source": [
    "# lets look at the 5 highest and lowest values for each variable, checking for erroneous data\n",
    "\n",
    "# sepal len\n",
    "slen = iris.sepal_length_cm.value_counts(ascending=True).sort_index()\n",
    "print \"sepal length min and frequencies: \"\n",
    "print slen.iloc[:5]\n",
    "print \"sepal length max and frequencies: \"\n",
    "print slen.sort_index(ascending=False).iloc[:5]\n",
    "\n",
    "# sepal wid\n",
    "swid = iris.sepal_width_cm.value_counts(ascending=True).sort_index()\n",
    "print \"sepal weidth min and frequencies: \"\n",
    "print swid.iloc[:5]\n",
    "print \"sepal width max and frequencies: \"\n",
    "print swid.sort_index(ascending=False).iloc[:5]\n",
    "\n",
    "# petal len\n",
    "plen = iris.petal_length_cm.value_counts(ascending=True).sort_index()\n",
    "print \"petal length min and frequencies: \"\n",
    "print plen.iloc[:5]\n",
    "print \"petal length max and frequencies: \"\n",
    "print plen.sort_index(ascending=False).iloc[:5]\n",
    "\n",
    "# petal wid\n",
    "pwid = iris.petal_width_cm.value_counts(ascending=False).sort_index()\n",
    "print \"petal width min and frequencies: \"\n",
    "print pwid.iloc[:5]\n",
    "print \"petal width max and frequencies: \"\n",
    "print pwid.sort_index(ascending=False).iloc[:5]\n",
    "\n",
    "# print slen.iloc[:5]\n",
    "# print swid.iloc[:5]\n",
    "\n",
    "\n"
   ]
  },
  {
   "cell_type": "markdown",
   "metadata": {},
   "source": [
    "<h4>Outlier notes:</h4>\n",
    "<p>Outliers are extreme values that may indicate bad datum or might be due to natural variation of the variable.</p>\n",
    "\n",
    "<p>For this particular dataset this may be overkill, considering nothing seemed out of the ordinary looking at the histograms, nor did the values seem to be extreme when viewing the snapshot of the number stats of the variables above. Still this is decent practice to see the ranges at the max and min. Although considering I have next to no domain knowledge with this particular dataset it's hard to know if a petal length of 6.9cm is extreme.</p>"
   ]
  },
  {
   "cell_type": "markdown",
   "metadata": {},
   "source": [
    "#### Comparing variable distributions with Histograms"
   ]
  },
  {
   "cell_type": "markdown",
   "metadata": {},
   "source": [
    "<p>This particular dataset will not be able to compare variables to visualize any differences for the proposed outcome. </p>"
   ]
  },
  {
   "cell_type": "code",
   "execution_count": null,
   "metadata": {
    "collapsed": true
   },
   "outputs": [],
   "source": []
  }
 ],
 "metadata": {
  "kernelspec": {
   "display_name": "Python 2",
   "language": "python",
   "name": "python2"
  },
  "language_info": {
   "codemirror_mode": {
    "name": "ipython",
    "version": 2
   },
   "file_extension": ".py",
   "mimetype": "text/x-python",
   "name": "python",
   "nbconvert_exporter": "python",
   "pygments_lexer": "ipython2",
   "version": "2.7.11"
  }
 },
 "nbformat": 4,
 "nbformat_minor": 0
}
